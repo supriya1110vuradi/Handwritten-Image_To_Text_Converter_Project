{
 "cells": [
  {
   "cell_type": "markdown",
   "id": "f1b8509f",
   "metadata": {},
   "source": [
    "# Converting handwritten documents as scanned images or photos (in any format) to legible text document using AI extracting important and critical information into a database."
   ]
  },
  {
   "cell_type": "code",
   "execution_count": 3,
   "id": "cd44fc69",
   "metadata": {},
   "outputs": [
    {
     "name": "stdout",
     "output_type": "stream",
     "text": [
      "EI23 THIS TS 650\n",
      "E2S4 THATIS 450\n",
      "E404 WHATIS 250\n",
      "r434 PQRST 560\n",
      "\f",
      "\n",
      "Done\n"
     ]
    }
   ],
   "source": [
    "# Import some modules\n",
    "import cv2 \n",
    "# An image proccessing library\n",
    "import pytesseract\n",
    "# an image to text library\n",
    "import numpy as np \n",
    "# used for mathematics but can be used in image proccessing\n",
    "\n",
    "# Configure the module\n",
    "pytesseract.pytesseract.tesseract_cmd = r'C:\\Users\\NARSAIAH\\AppData\\Local\\tesseract.exe'\n",
    "\n",
    "# Make the image grey\n",
    "img = cv2.imread(r'C:\\Users\\NARSAIAH\\name.jpg')\n",
    "gray = cv2.cvtColor(img, cv2.COLOR_RGB2GRAY)\n",
    "gray, img_bin = cv2.threshold(gray, 128, 255, cv2.THRESH_BINARY | cv2.THRESH_OTSU)\n",
    "gray = cv2.bitwise_not(img_bin)\n",
    "kernel = np.ones((2, 1), np.uint8)\n",
    "img = cv2.erode(gray, kernel, iterations=1)\n",
    "img = cv2.dilate(img, kernel, iterations=1)\n",
    "\n",
    "# converts the image to result and saves it into result variable\n",
    "out_below = pytesseract.image_to_string(img)\n",
    "\n",
    "# Print the text\n",
    "print(out_below)\n",
    "\n",
    "# write text in a text file and save it to source path   \n",
    "with open('final_op.txt', mode ='w') as file:\n",
    "    file.write(out_below)\n",
    "    print('Done')"
   ]
  }
 ],
 "metadata": {
  "kernelspec": {
   "display_name": "Python 3 (ipykernel)",
   "language": "python",
   "name": "python3"
  },
  "language_info": {
   "codemirror_mode": {
    "name": "ipython",
    "version": 3
   },
   "file_extension": ".py",
   "mimetype": "text/x-python",
   "name": "python",
   "nbconvert_exporter": "python",
   "pygments_lexer": "ipython3",
   "version": "3.9.5"
  }
 },
 "nbformat": 4,
 "nbformat_minor": 5
}
